{
 "cells": [
  {
   "cell_type": "markdown",
   "id": "9d08234c",
   "metadata": {},
   "source": [
    "# Bölüm 1: Veri Tipleri"
   ]
  },
  {
   "cell_type": "markdown",
   "id": "9806ca0f",
   "metadata": {},
   "source": [
    "1. Kullanıcıdan adını, yaşını ve boyunu (float) input() ile alınız. Bu bilgileri uygun veri tiplerinde değişkenlerde saklayınız ve ekrana anlamlı bir şekilde yazdırınız."
   ]
  },
  {
   "cell_type": "code",
   "execution_count": null,
   "id": "ca827567",
   "metadata": {},
   "outputs": [],
   "source": [
    "name = str(input(\"Lütfen adınızı girin: \"))\n",
    "age = int(input(\"Lütfen yaşınızı girin: \"))\n",
    "height = float(input(\"Lütfen boy ölçünüzü girin: \"))\n",
    "\n",
    "print(\"Ad: \",{name})\n",
    "print(\"Yaş: \",{age})\n",
    "print(\"Boy: \",{height})\n"
   ]
  },
  {
   "cell_type": "markdown",
   "id": "f12f784d",
   "metadata": {},
   "source": [
    "2. Bir öğrencinin notlarını (Matematik, Fizik, Kimya) int tipinde değişkenlere atayın. Ortalamasını float tipinde hesaplayıp ekrana yazdırınız."
   ]
  },
  {
   "cell_type": "code",
   "execution_count": null,
   "id": "a10b88fc",
   "metadata": {},
   "outputs": [],
   "source": [
    "mat_skor = 90\n",
    "physics_skor = 80\n",
    "chemistry_skor = 95\n",
    "sum = mat_skor + physics_skor + chemistry_skor\n",
    "average = sum/3\n",
    "print(\"Ortalama: \",average)\n",
    "\n"
   ]
  },
  {
   "cell_type": "markdown",
   "id": "cdb2bb4e",
   "metadata": {},
   "source": [
    "3. Bir string değişkeni tanımlayın. Bu stringin ilk ve son karakterini, uzunluğunu ve ters çevrilmiş halini ekrana yazdırınız."
   ]
  },
  {
   "cell_type": "code",
   "execution_count": null,
   "id": "79af3bbc",
   "metadata": {},
   "outputs": [],
   "source": [
    "str_variable = \"Merhaba Python\"\n",
    "letter = list(str_variable)\n",
    "print(\"İlk harf:\",letter[0])\n",
    "print(\"Son harf:\",letter[-1])\n",
    "print(\"String Uzunluğu:\",len(letter))\n",
    "print(\"Ters çevrilmiş hali:\",str_variable[::-1])"
   ]
  },
  {
   "cell_type": "markdown",
   "id": "5773fbff",
   "metadata": {},
   "source": [
    "# Bölüm 2: Operatörler"
   ]
  },
  {
   "cell_type": "markdown",
   "id": "0ef539b3",
   "metadata": {},
   "source": [
    "4. Kullanıcıdan iki sayı alınız. Bu sayılar üzerinde toplama, çıkarma, çarpma, bölme ve mod işlemleri yapınız."
   ]
  },
  {
   "cell_type": "code",
   "execution_count": null,
   "id": "375cc124",
   "metadata": {},
   "outputs": [],
   "source": [
    "first_num = int(input(\"Lütfen ilk sayıyı giriniz:: \"))\n",
    "second_num = int(input(\"Lütfen ikinci sayıyı giriniz: \"))\n",
    "\n",
    "print(\"Toplam: \", first_num + second_num)\n",
    "print(\"Fark: \",first_num - second_num)\n",
    "print(\"Çarpım: \",first_num*second_num)\n",
    "\n",
    "if second_num == 0:\n",
    "    print(\"ikinci sayı 0 olarak girildi!\")\n",
    "    print(\"Bölüm: Tanımsız\")\n",
    "    print(\"Mod: Tanımsız\")\n",
    "else:\n",
    "    print(\"Bölüm: \",first_num/second_num)\n",
    "    print(\"Mod: \",first_num % second_num)\n"
   ]
  },
  {
   "cell_type": "markdown",
   "id": "1dedf3d3",
   "metadata": {},
   "source": [
    "5. Bir öğrencinin ortalaması 50’den büyükse 'Geçti', değilse 'Kaldı' çıktısını veren bir program yazınız. (Karşılaştırma ve mantıksal operatörler kullanılacak.)"
   ]
  },
  {
   "cell_type": "code",
   "execution_count": null,
   "id": "5eaa04b4",
   "metadata": {},
   "outputs": [],
   "source": [
    "student_average = int(input(\"Lütfen not ortalamanızı giriniz: \"))\n",
    "\n",
    "if student_average > 50:\n",
    "    print(\"Geçti!\")\n",
    "else: \n",
    "    print(\"Kaldı!\")"
   ]
  },
  {
   "cell_type": "markdown",
   "id": "b2d3ea1c",
   "metadata": {},
   "source": [
    "6. Kullanıcıdan yaşını alınız. Eğer yaş 18’den büyükse 'Ehliyet alabilirsiniz', değilse 'Ehliyet alamazsınız' çıktısı veriniz."
   ]
  },
  {
   "cell_type": "code",
   "execution_count": null,
   "id": "4ae369b4",
   "metadata": {},
   "outputs": [],
   "source": [
    "age = int(input(\"lütfen yaşınızı giriniz: \"))\n",
    "\n",
    "if age > 18:\n",
    "    print(\"Ehliyet alabilirsiniz.\")\n",
    "else: \n",
    "    print(\"Ehliyet alamazsınız.\")"
   ]
  },
  {
   "cell_type": "markdown",
   "id": "01fa2441",
   "metadata": {},
   "source": [
    "7. Bir ürünün fiyatını (float) ve indirim oranını (yüzde) alınız. İndirimli fiyatı hesaplayıp ekrana yazdırınız. (Aritmetik operatörler kullanılacak.)"
   ]
  },
  {
   "cell_type": "code",
   "execution_count": null,
   "id": "569b7eba",
   "metadata": {},
   "outputs": [],
   "source": [
    "price = float(input(\"Ürün fiyatını giriniz: \"))\n",
    "ration = float(input(\"İndirim oranını giriniz (%): \"))\n",
    "new_price = price - ((price*ration)/100)\n",
    "print(\"indirimli fiyat: \", new_price)"
   ]
  },
  {
   "cell_type": "markdown",
   "id": "5baaebf7",
   "metadata": {},
   "source": [
    "8. True ve False değerlerini içeren değişkenlerle mantıksal operatörleri (and, or, not) uygulayarak örnekler yapınız ve sonuçlarını ekrana yazdırınız."
   ]
  },
  {
   "cell_type": "code",
   "execution_count": null,
   "id": "0f59416d",
   "metadata": {},
   "outputs": [],
   "source": [
    "a = True\n",
    "b = False\n",
    "\n",
    "print(\"a and b:\", a and b)  \n",
    "print(\"a or b:\", a or b)     \n",
    "print(\"not a:\", not a)      \n",
    "print(\"not b:\", not b)       \n",
    "\n",
    "    "
   ]
  },
  {
   "cell_type": "markdown",
   "id": "123ca73b",
   "metadata": {},
   "source": [
    "# Bölüm 3: Mini Proje"
   ]
  },
  {
   "cell_type": "markdown",
   "id": "2edaecb2",
   "metadata": {},
   "source": [
    "9. Küçük bir alışveriş sepeti uygulaması yapınız:\n",
    "- Kullanıcıdan 3 ürünün fiyatını alınız.\n",
    "- Toplam fiyatı hesaplayınız.\n",
    "- Eğer toplam fiyat 200 TL’den fazlaysa %10 indirim uygulayınız.\n",
    "- Son fiyatı ekrana yazdırınız."
   ]
  },
  {
   "cell_type": "code",
   "execution_count": null,
   "id": "3eb8c605",
   "metadata": {},
   "outputs": [],
   "source": [
    "price1 = float(input(\"İlk ürünün fiyatını giriniz: \"))\n",
    "price2 = float(input(\"İkinci ürünün fiyatını giriniz: \"))\n",
    "price3 = float(input(\"Üçüncü ürünün fiyatını giriniz: \"))\n",
    "sum = price1 + price2 + price3\n",
    "\n",
    "if sum > 200:\n",
    "    new_price = sum-(sum*10)/100\n",
    "    print(new_price)\n"
   ]
  },
  {
   "cell_type": "markdown",
   "id": "ee2985f6",
   "metadata": {},
   "source": [
    "10. Kullanıcıdan doğum yılını alınız. Bu yıl ile güncel yılı kullanarak yaşını hesaplayınız. Yaşına göre şu mesajlardan birini veriniz:\n",
    "- 0-12: 'Çocuksunuz'\n",
    "- 13-17: 'Ergensiniz'\n",
    "- 18 ve üzeri: 'Yetişkinsiniz'"
   ]
  },
  {
   "cell_type": "code",
   "execution_count": null,
   "id": "ec590ea1",
   "metadata": {},
   "outputs": [],
   "source": [
    "year = int(input(\"Doğum yılınızı giriniz: \"))\n",
    "age = 2025 - year\n",
    "\n",
    "if age < 13:\n",
    "    print(\"Çocuksunuz.\")\n",
    "elif age < 18:\n",
    "    print(\"Ergensiniz.\")\n",
    "else:\n",
    "    print(\"Yetişkinsiniz.\")\n"
   ]
  }
 ],
 "metadata": {
  "kernelspec": {
   "display_name": ".venv",
   "language": "python",
   "name": "python3"
  },
  "language_info": {
   "codemirror_mode": {
    "name": "ipython",
    "version": 3
   },
   "file_extension": ".py",
   "mimetype": "text/x-python",
   "name": "python",
   "nbconvert_exporter": "python",
   "pygments_lexer": "ipython3",
   "version": "3.13.5"
  }
 },
 "nbformat": 4,
 "nbformat_minor": 5
}
