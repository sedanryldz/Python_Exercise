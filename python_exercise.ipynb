{
 "cells": [
  {
   "cell_type": "markdown",
   "id": "7d9c5c87",
   "metadata": {},
   "source": [
    "## PYTHON PROGRAMLAMA DİLİ"
   ]
  },
  {
   "cell_type": "code",
   "execution_count": null,
   "id": "ac6d5f3b",
   "metadata": {},
   "outputs": [],
   "source": [
    "x = \"Hello world\"\n",
    "y = 36\n",
    "z = 57.999\n",
    "t = True\n",
    "\n",
    "print(f\"{type(x)}, {type(y)}, {type(z)}, {type(t)}\" )"
   ]
  },
  {
   "cell_type": "code",
   "execution_count": null,
   "id": "488cd51c",
   "metadata": {},
   "outputs": [],
   "source": [
    "ilk = 67\n",
    "ikinci = 9\n",
    "print(ilk//ikinci)  # Integer division"
   ]
  },
  {
   "cell_type": "code",
   "execution_count": null,
   "id": "82427672",
   "metadata": {},
   "outputs": [],
   "source": [
    "print(ilk%ikinci)  # Mod yani kalan gösteriminde kullanılır."
   ]
  },
  {
   "cell_type": "code",
   "execution_count": null,
   "id": "289ca572",
   "metadata": {},
   "outputs": [],
   "source": [
    "x = \"sedanur\"\n",
    "y = \"yıldız\"\n",
    "print(x + \" \" + y)  # String concatenation\n",
    "print(x,y)"
   ]
  },
  {
   "cell_type": "markdown",
   "id": "ed4a5bdb",
   "metadata": {},
   "source": [
    "# ALIŞTIRMA SORULARI"
   ]
  },
  {
   "cell_type": "markdown",
   "id": "853ba0bf",
   "metadata": {},
   "source": [
    "1. 1'den 10'a kadar olan sayıları yazdır"
   ]
  },
  {
   "cell_type": "code",
   "execution_count": 4,
   "id": "0935db7b",
   "metadata": {},
   "outputs": [
    {
     "name": "stdout",
     "output_type": "stream",
     "text": [
      "1 2 3 4 5 6 7 8 9 10 "
     ]
    }
   ],
   "source": [
    "for num in range(1,11):\n",
    "    print(num, end=\" \")  # Print numbers in the same line with space\n",
    "    "
   ]
  },
  {
   "cell_type": "markdown",
   "id": "bfb43379",
   "metadata": {},
   "source": [
    "2. 1’den 100’e kadar olan çift sayıları yazdır"
   ]
  },
  {
   "cell_type": "code",
   "execution_count": 5,
   "id": "19d42737",
   "metadata": {},
   "outputs": [
    {
     "name": "stdout",
     "output_type": "stream",
     "text": [
      "2 4 6 8 10 12 14 16 18 20 22 24 26 28 30 32 34 36 38 40 42 44 46 48 50 52 54 56 58 60 62 64 66 68 70 72 74 76 78 80 82 84 86 88 90 92 94 96 98 100 "
     ]
    }
   ],
   "source": [
    "for sayi in range(1,101):\n",
    "    if sayi %2 == 0:\n",
    "        print(sayi, end=\" \")"
   ]
  },
  {
   "cell_type": "markdown",
   "id": "f82ddcfb",
   "metadata": {},
   "source": [
    "3. Kullanıcının girdiği sayıya kadar olan sayıların toplamını bul"
   ]
  },
  {
   "cell_type": "code",
   "execution_count": 1,
   "id": "ef04a6f9",
   "metadata": {},
   "outputs": [
    {
     "name": "stdout",
     "output_type": "stream",
     "text": [
      "Şu ana kadar girilen sayıların toplamı: 4\n",
      "Şu ana kadar girilen sayıların toplamı: 9\n",
      "Şu ana kadar girilen sayıların toplamı: 15\n",
      "Şu ana kadar girilen sayıların toplamı: 22\n",
      "Program sonlandırılıyor...\n"
     ]
    }
   ],
   "source": [
    "\n",
    "degisken = 0\n",
    "liste =[]\n",
    "def toplam (sayi):\n",
    "    global degisken # fonk. dışında tanımlanan degiskeni kullanabilmek için global olarak tanımlamak gerekir.\n",
    "    liste.append(sayi)\n",
    "    degisken += sayi\n",
    "    return degisken    \n",
    "\n",
    "while True:\n",
    "    sayi = int(input(\"Lütfen bir sayı giriniz: \"))\n",
    "    if sayi == -1:\n",
    "        print(\"Program sonlandırılıyor...\")\n",
    "        break\n",
    "    else:\n",
    "        toplam(sayi)\n",
    "        print(f\"Şu ana kadar girilen sayıların toplamı: {degisken}\")\n",
    "    \n"
   ]
  },
  {
   "cell_type": "code",
   "execution_count": null,
   "id": "020589b0",
   "metadata": {},
   "outputs": [],
   "source": [
    "# Alternatif çözüm yöntemleri-1\n",
    "\n",
    "toplam = 0\n",
    "\n",
    "while True:\n",
    "    sayi = int(input(\"Lütfen bir sayı giriniz (-1 ile çık): \"))\n",
    "    if sayi == -1:\n",
    "        print(\"Program sonlandırılıyor...\")\n",
    "        break\n",
    "    toplam += sayi\n",
    "    print(f\"Şu ana kadar toplam: {toplam}\")\n"
   ]
  },
  {
   "cell_type": "code",
   "execution_count": null,
   "id": "be38fac3",
   "metadata": {},
   "outputs": [],
   "source": [
    "# Alternatif çözüm yöntemleri-2\n",
    "sayilar = []\n",
    "\n",
    "while True:\n",
    "    sayi = int(input(\"Lütfen bir sayı giriniz (-1 ile çık): \"))\n",
    "    if sayi == -1:\n",
    "        print(\"Program sonlandırılıyor...\")\n",
    "        break\n",
    "    sayilar.append(sayi)\n",
    "    print(f\"Şu ana kadar toplam: {sum(sayilar)}\")\n"
   ]
  },
  {
   "cell_type": "code",
   "execution_count": null,
   "id": "11e79467",
   "metadata": {},
   "outputs": [],
   "source": [
    "# Alternatif çözüm yöntemleri-3\n",
    "def toplam_hesapla():\n",
    "    toplam = 0\n",
    "    while True:\n",
    "        sayi = int(input(\"Lütfen bir sayı giriniz (-1 ile çık): \"))\n",
    "        if sayi == -1:\n",
    "            print(\"Program sonlandırılıyor...\")\n",
    "            break\n",
    "        toplam += sayi\n",
    "        print(f\"Şu ana kadar toplam: {toplam}\")\n",
    "\n",
    "toplam_hesapla()\n"
   ]
  },
  {
   "cell_type": "markdown",
   "id": "fd858414",
   "metadata": {},
   "source": [
    "4. 1 ile 100 arasındaki sayıların karesini yazdır"
   ]
  },
  {
   "cell_type": "code",
   "execution_count": 6,
   "id": "44f8a29e",
   "metadata": {},
   "outputs": [
    {
     "name": "stdout",
     "output_type": "stream",
     "text": [
      "1 4 9 16 25 36 49 64 81 100 121 144 169 196 225 256 289 324 361 400 441 484 529 576 625 676 729 784 841 900 961 1024 1089 1156 1225 1296 1369 1444 1521 1600 1681 1764 1849 1936 2025 2116 2209 2304 2401 2500 2601 2704 2809 2916 3025 3136 3249 3364 3481 3600 3721 3844 3969 4096 4225 4356 4489 4624 4761 4900 5041 5184 5329 5476 5625 5776 5929 6084 6241 6400 6561 6724 6889 7056 7225 7396 7569 7744 7921 8100 8281 8464 8649 8836 9025 9216 9409 9604 9801 10000 "
     ]
    }
   ],
   "source": [
    "for number in range(1, 101):\n",
    "    print(number**2, end=\" \")  # Print squares of numbers from 1 to 100 in the same line"
   ]
  },
  {
   "cell_type": "markdown",
   "id": "c45d0336",
   "metadata": {},
   "source": [
    "5. Faktöriyel hesaplayan program"
   ]
  },
  {
   "cell_type": "code",
   "execution_count": null,
   "id": "f080d4e4",
   "metadata": {},
   "outputs": [],
   "source": [
    "while True:\n",
    "    sayi = int(input(\"Lütfen bir sayı giriniz: \"))\n",
    "    if sayi == -1:\n",
    "        print(\"Program sonlandırılıyor...\")\n",
    "        break\n",
    "    else:\n",
    "        carpim = 1\n",
    "        for i in range(2, sayi + 1):\n",
    "            carpim *= i\n",
    "        print(f\"{sayi}! = {carpim}\")\n",
    "                \n"
   ]
  },
  {
   "cell_type": "markdown",
   "id": "58ba03ba",
   "metadata": {},
   "source": [
    "6. Kullanıcı -1 girene kadar sayı al ve kaç adet pozitif/negatif sayı girdiğini yazdır"
   ]
  },
  {
   "cell_type": "code",
   "execution_count": 2,
   "id": "957c39fa",
   "metadata": {},
   "outputs": [
    {
     "name": "stdout",
     "output_type": "stream",
     "text": [
      "Programdan çıkmak için -1 değerini giriniz.\n",
      "Girilen pozitif değerlerin sayısı:  2\n",
      "Girilen negatif değerlerin sayısı:  2\n"
     ]
    }
   ],
   "source": [
    "pozitif_liste = []\n",
    "negatif_liste = []\n",
    "print(\"Programdan çıkmak için -1 değerini giriniz.\")\n",
    "\n",
    "while True:\n",
    "    sayi = int(input(\"Lütfen bir sayı giriniz:\"))\n",
    "    if sayi == -1:\n",
    "        break\n",
    "    elif sayi > 0:\n",
    "        pozitif_liste.append(sayi)\n",
    "    else:\n",
    "        negatif_liste.append(sayi)\n",
    "print(\"Girilen pozitif değerlerin sayısı: \",len(pozitif_liste))\n",
    "print(\"Girilen negatif değerlerin sayısı: \",len(negatif_liste))"
   ]
  },
  {
   "cell_type": "markdown",
   "id": "6149d4ef",
   "metadata": {},
   "source": [
    "7. Girilen kelimeyi 10 kez ekrana yazdır"
   ]
  },
  {
   "cell_type": "code",
   "execution_count": 36,
   "id": "129ea5f9",
   "metadata": {},
   "outputs": [
    {
     "name": "stdout",
     "output_type": "stream",
     "text": [
      "seda seda seda seda seda seda seda seda seda seda \n"
     ]
    }
   ],
   "source": [
    "kelime = str(input(\"Lütfen string bir ifade girniz:\"))\n",
    "print((kelime + \" \")*10)"
   ]
  },
  {
   "cell_type": "markdown",
   "id": "d3bf8dd2",
   "metadata": {},
   "source": [
    "8. Kullanıcının girdiği sayıya kadar olan tek sayıların toplamını hesapla"
   ]
  },
  {
   "cell_type": "code",
   "execution_count": 6,
   "id": "3696eabf",
   "metadata": {},
   "outputs": [
    {
     "name": "stdout",
     "output_type": "stream",
     "text": [
      "Girdiğiniz değere kadar olan tek sayıların toplamı:  9\n"
     ]
    }
   ],
   "source": [
    "deger = int(input(\"Lütfen pozitif bir tam sayı değeri giriniz: \"))\n",
    "\n",
    "def toplam():\n",
    "    tek_liste = [eleman for eleman in range(1,deger,2)]\n",
    "    print(\"Girdiğiniz değere kadar olan tek sayıların toplamı: \",sum(tek_liste))\n",
    "toplam()"
   ]
  },
  {
   "cell_type": "markdown",
   "id": "f4134ba4",
   "metadata": {},
   "source": [
    "9. Bir sayı asal mı değil mi? (while veya for ile kontrol)"
   ]
  },
  {
   "cell_type": "markdown",
   "id": "36b53ea8",
   "metadata": {},
   "source": [
    "10. Bir kelimenin tersini döngü ile yazdır"
   ]
  },
  {
   "cell_type": "markdown",
   "id": "214e0aa8",
   "metadata": {},
   "source": [
    "11. 1-100 arasında 3 ve 5’in katı olan sayıları bul ve toplamlarını yaz"
   ]
  },
  {
   "cell_type": "code",
   "execution_count": null,
   "id": "9ef1d523",
   "metadata": {},
   "outputs": [],
   "source": [
    "liste = []\n",
    "for i in range(1,101):\n",
    "    if i %3 == 0 and i %5 ==0:\n",
    "        liste.append(i)\n",
    "print(sum(liste))\n",
    "\n",
    "    \n"
   ]
  },
  {
   "cell_type": "markdown",
   "id": "e6b1b3b5",
   "metadata": {},
   "source": [
    "12. Çarpım tablosu oluştur (1’den 10’a kadar)"
   ]
  },
  {
   "cell_type": "markdown",
   "id": "88cb4ae6",
   "metadata": {},
   "source": [
    "13. Kullanıcıdan 10 sayı al ve en büyüğünü yazdır"
   ]
  },
  {
   "cell_type": "markdown",
   "id": "86508427",
   "metadata": {},
   "source": [
    "14. Girilen kelimede kaç tane sesli harf olduğunu bul"
   ]
  },
  {
   "cell_type": "markdown",
   "id": "f5e7e884",
   "metadata": {},
   "source": [
    "15. Girilen sayının basamaklarını toplayan program"
   ]
  },
  {
   "cell_type": "code",
   "execution_count": null,
   "id": "869233f8",
   "metadata": {},
   "outputs": [],
   "source": [
    "sayi = int(input(\"Lütfen en az iki basmaklı bir sayı giriniz: \"))\n",
    "rakamlar = []\n",
    "while True:\n",
    "    if sayi < 10:\n",
    "        print(\"iki basamaklı bir sayı giriniz!\")\n",
    "        break\n",
    "    else:\n",
    "        for i in str(sayi):\n",
    "            rakamlar.append(i)\n",
    "        basamak = len(rakamlar) \n",
    "        toplam = 0  \n",
    "        for i in range(0,basamak):\n",
    "            toplam += int(rakamlar[i]) \n",
    "        print(toplam)   \n",
    "        break\n",
    "    \n",
    "    \n",
    "\n"
   ]
  },
  {
   "cell_type": "markdown",
   "id": "210f515b",
   "metadata": {},
   "source": [
    "16. Toplamları 100 olan 5 farlı asal sayının çarpımı  ABCABC sayısına eşittir. Bu sayıyı bulan programı yaz."
   ]
  },
  {
   "cell_type": "code",
   "execution_count": 28,
   "id": "80dcd4c8",
   "metadata": {},
   "outputs": [
    {
     "name": "stdout",
     "output_type": "stream",
     "text": [
      "Bulunan asal sayılar: (2, 7, 11, 13, 67)\n",
      "Çarpımları: 134134\n",
      "ABCABC: 134134\n",
      "A + B + C = 8\n"
     ]
    }
   ],
   "source": [
    "from itertools import combinations\n",
    "import math\n",
    "\n",
    "asal = [2, 3, 5, 7, 11, 13, 17, 19, 23, 29, 31, 37, 41, 43, 47, 53, 59, 61, 67, 71, 73, 79, 83, 89, 97]\n",
    "\n",
    "for combo in combinations(asal, 5):\n",
    "    if sum(combo) == 100:\n",
    "        carpim = math.prod(combo)\n",
    "        str_carpim = str(carpim)\n",
    "        if len(str_carpim) == 6 and str_carpim[:3] == str_carpim[3:]:\n",
    "            A, B, C = int(str_carpim[0]), int(str_carpim[1]), int(str_carpim[2])\n",
    "            print(\"Bulunan asal sayılar:\", combo)\n",
    "            print(\"Çarpımları:\", carpim)\n",
    "            print(\"ABCABC:\", str_carpim)\n",
    "            print(\"A + B + C =\", A + B + C)\n",
    "            break\n",
    "\n",
    "\n",
    "\n",
    "    \n"
   ]
  },
  {
   "cell_type": "code",
   "execution_count": 1,
   "id": "9ed04f49",
   "metadata": {},
   "outputs": [
    {
     "name": "stdout",
     "output_type": "stream",
     "text": [
      "NumPy yüklü ✅\n",
      "Versiyon: 2.3.2\n"
     ]
    }
   ],
   "source": [
    "try:\n",
    "    import numpy\n",
    "    print(\"NumPy yüklü ✅\")\n",
    "    print(\"Versiyon:\", numpy.__version__)\n",
    "except ImportError:\n",
    "    print(\"NumPy yüklü değil ❌\")\n"
   ]
  },
  {
   "cell_type": "code",
   "execution_count": 2,
   "id": "a88bc0c2",
   "metadata": {},
   "outputs": [
    {
     "name": "stdout",
     "output_type": "stream",
     "text": [
      "Matplotlib yüklü ✅\n",
      "Versiyon: 3.10.5\n"
     ]
    }
   ],
   "source": [
    "try:\n",
    "    import matplotlib\n",
    "    print(\"Matplotlib yüklü ✅\")\n",
    "    print(\"Versiyon:\", matplotlib.__version__)\n",
    "except ImportError:\n",
    "    print(\"Matplotlib yüklü değil ❌\")\n"
   ]
  },
  {
   "cell_type": "code",
   "execution_count": 3,
   "id": "96b70f07",
   "metadata": {},
   "outputs": [
    {
     "name": "stdout",
     "output_type": "stream",
     "text": [
      "Pandas yüklü ✅\n",
      "Versiyon: 2.3.1\n"
     ]
    }
   ],
   "source": [
    "try:\n",
    "    import pandas\n",
    "    print(\"Pandas yüklü ✅\")\n",
    "    print(\"Versiyon:\", pandas.__version__)\n",
    "except ImportError:\n",
    "    print(\"Pandas yüklü değil ❌\")\n"
   ]
  },
  {
   "cell_type": "code",
   "execution_count": 1,
   "id": "e1c940a4",
   "metadata": {},
   "outputs": [
    {
     "data": {
      "image/png": "[encoded data removed]",
      "text/plain": [
       "<Figure size 640x480 with 1 Axes>"
      ]
     },
     "metadata": {},
     "output_type": "display_data"
    }
   ],
   "source": [
    "import matplotlib.pyplot as plt\n",
    "\n",
    "plt.plot([1, 2, 3], [4, 5, 6])\n",
    "plt.title(\"Matplotlib Kurulum Testi\")\n",
    "plt.show()\n"
   ]
  },
  {
   "cell_type": "code",
   "execution_count": 1,
   "id": "c9fea04e",
   "metadata": {},
   "outputs": [
    {
     "data": {
      "image/png": "[encoded data removed]",
      "text/plain": [
       "<Figure size 640x480 with 3 Axes>"
      ]
     },
     "metadata": {},
     "output_type": "display_data"
    }
   ],
   "source": [
    "import matplotlib.pyplot as plt\n",
    "import numpy as np\n",
    "\n",
    "# Matris oluştur\n",
    "M = np.array([\n",
    "    [1, 2, 3],\n",
    "    [4, 5, 6],\n",
    "    [7, 8, 9]\n",
    "])\n",
    "\n",
    "# 1️⃣ Scatter plot (ilk iki sütunu X ve Y koordinatı olarak kullan)\n",
    "plt.subplot(1, 2, 1)\n",
    "plt.scatter(M[:,0], M[:,1], color='red', s=100)\n",
    "plt.title(\"Koordinat Görselleştirme\")\n",
    "plt.xlabel(\"X\")\n",
    "plt.ylabel(\"Y\")\n",
    "\n",
    "# 2️⃣ Matris değerlerini renk haritası olarak göster\n",
    "plt.subplot(1, 2, 2)\n",
    "plt.imshow(M, cmap='viridis', interpolation='spline16')\n",
    "plt.title(\"Renk Haritası\")\n",
    "plt.colorbar()\n",
    "\n",
    "plt.show()\n"
   ]
  }
 ],
 "metadata": {
  "kernelspec": {
   "display_name": ".venv",
   "language": "python",
   "name": "python3"
  },
  "language_info": {
   "codemirror_mode": {
    "name": "ipython",
    "version": 3
   },
   "file_extension": ".py",
   "mimetype": "text/x-python",
   "name": "python",
   "nbconvert_exporter": "python",
   "pygments_lexer": "ipython3",
   "version": "3.13.5"
  }
 },
 "nbformat": 4,
 "nbformat_minor": 5
}
